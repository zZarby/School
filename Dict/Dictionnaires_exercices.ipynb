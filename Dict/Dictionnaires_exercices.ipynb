{
 "cells": [
  {
   "cell_type": "markdown",
   "id": "e01e6f04-e44a-4426-87fe-e9d4ca609b96",
   "metadata": {},
   "source": [
    "# Dictionnaires\n",
    "\n",
    "Ce cahier d'exercice vise à vous familiariser avec le dictionnaire en python. Cette structure de données présente de nombreux avantages à l'utilisation, permet souvent de simplifier l'écriture de programmes.\n"
   ]
  },
  {
   "cell_type": "markdown",
   "id": "4472d740-9121-4caf-a279-54f86f48caa1",
   "metadata": {},
   "source": [
    "## Exercices de traitement simples\n",
    "\n",
    "Les premiers exercices proposés impliquent une réponse en quelques lignes et se concentrent sur la nécessité de lire, modifier, ou créer un dictionnaire simple."
   ]
  },
  {
   "cell_type": "markdown",
   "id": "361851bf-6319-4334-8ca2-512f9e8fa634",
   "metadata": {},
   "source": [
    "### Exercice 1 - Le catalogue de l'épicier\n",
    "\n",
    "Ecrivez les quelques instructions demandées pour manipuler le catalogue des prix de l'épicerie."
   ]
  },
  {
   "cell_type": "code",
   "execution_count": null,
   "id": "850140c5-7450-4a19-8f38-8e942624668f",
   "metadata": {},
   "outputs": [],
   "source": [
    "inventaire = {\"pommes\": 2.50, \"bananes\": 1.80, \"oranges\": 3.00}\n",
    "\n",
    "# - Affichez le prix des bananes\n",
    "\n",
    "# - Ajoutez les abricots au prix de 4.5\n",
    "\n",
    "# - Super promo sur les pommes, 2€ au lieu de 2.5€ !\n",
    "\n",
    " "
   ]
  },
  {
   "cell_type": "markdown",
   "id": "8b426b84-e17a-4279-9b52-5e47dd9cf60c",
   "metadata": {},
   "source": [
    "### Exercice 2 - Le carnet de contacts\n",
    "\n",
    "Même idée, cette fois avec un carnet de contact."
   ]
  },
  {
   "cell_type": "code",
   "execution_count": null,
   "id": "6b9f4c4f-6d3e-4c8e-87ef-6eac1455da39",
   "metadata": {},
   "outputs": [],
   "source": [
    "contacts = {\n",
    "    \"Malik\": \"07 82 45 91 23\",\n",
    "    \"Sofia\": \"06 12 34 56 78\",\n",
    "    \"Yuki\": \"06 91 23 45 67\",\n",
    "    \"Pedro\": \"07 14 25 36 98\",\n",
    "    \"Aisha\": \"06 78 91 23 45\",\n",
    "    \"Wei\": \"07 65 43 21 09\",\n",
    "    \"Lucia\": \"06 23 45 67 89\",\n",
    "    \"Ibrahim\": \"07 98 76 54 32\",\n",
    "    \"Nina\": \"06 55 44 33 22\",\n",
    "    \"Alessandro\": \"07 11 22 33 44\"\n",
    "}"
   ]
  },
  {
   "cell_type": "markdown",
   "id": "a65ec631-cd64-4550-ac5c-809d26e3fa0a",
   "metadata": {},
   "source": [
    "Complétez le code suivant :"
   ]
  },
  {
   "cell_type": "code",
   "execution_count": null,
   "id": "ec7d79f1-47c0-43dc-b3eb-f3d88ab517d7",
   "metadata": {},
   "outputs": [],
   "source": [
    "# Afficher le numéro de Lucia\n",
    "\n",
    "\n",
    "# Ajouter le contact de Thomas dont le numéro est 06 20 19 48 75\n",
    "\n",
    "\n",
    "# Modifier le numéro de Sofia, elle est maintenant joignable au 07 44 59 87 12\n",
    "\n"
   ]
  },
  {
   "cell_type": "markdown",
   "id": "1afe10aa-b539-478a-850a-d09abd98e0d6",
   "metadata": {},
   "source": [
    "## Programmes structurés\n",
    "\n",
    "Passons maintenant à des programmes courts mais structurés"
   ]
  },
  {
   "cell_type": "markdown",
   "id": "e9774fb7-8cec-4aec-b152-c58f0429cb84",
   "metadata": {},
   "source": [
    "### Exercice 3\n",
    "\n",
    "Reprenons le **catalogue de l'épicier** : il est contraint de répercuter l'inflation sur ses prix. Tous les produits augmentent de 2%.\n",
    "\n",
    "Ecrivez une fonction `inflation` qui prend un dictionnaire `catalogue` et un entier `taux` en entrée. "
   ]
  },
  {
   "cell_type": "code",
   "execution_count": null,
   "id": "b2538a6b-1d0e-4c8a-85cc-1ad5e7316809",
   "metadata": {},
   "outputs": [],
   "source": [
    "# Déclarer une nouvelle fonction\n",
    "\n",
    "    # Pour chaque produit du catalogue\n",
    "    \n",
    "        # Augmenter son prix du taux \n",
    "\n"
   ]
  },
  {
   "cell_type": "code",
   "execution_count": null,
   "id": "abd498fb-4255-4471-89cd-057def580365",
   "metadata": {},
   "outputs": [],
   "source": [
    "# testez votre fonction avec la variable initiée plus haut\n"
   ]
  },
  {
   "cell_type": "markdown",
   "id": "addc6ecd-c04b-4618-8a04-24a99239de14",
   "metadata": {},
   "source": [
    "### Exercice 4\n",
    "Reprenons sur le **carnet d'adresse**, écrivez un programme simple qui permet de consulter le carnet de contact en suivant les commentaires proposés.\n"
   ]
  },
  {
   "cell_type": "code",
   "execution_count": null,
   "id": "b5273805-700f-43b2-91e4-838963eee885",
   "metadata": {},
   "outputs": [],
   "source": [
    "# Initialisation des variables\n",
    "\n",
    "# Tant que le nom saisi n'est pas \"stop\"\n",
    "\n",
    "    # Demander à l'utilisateur de saisir un nom\n",
    "\n",
    "    # Afficher le numéro associé à ce nom dans le carnet de contact\n",
    "\n"
   ]
  },
  {
   "cell_type": "markdown",
   "id": "94e1aa88-db31-434e-9733-bc45aa33f1b3",
   "metadata": {},
   "source": [
    "Que se passe-t-il si vous essayez votre programme avec un nom qui ne fait pas partie des contacts ?"
   ]
  },
  {
   "cell_type": "markdown",
   "id": "d0a13292-6bdd-49df-a8b6-49982e37209d",
   "metadata": {},
   "source": [
    "### Exercice 4 bis (amélioration)\n",
    "Améliorez le fonctionnement du programme précédent avec la gestion du cas où le nom demandé n'est pas dans le carnet de contact."
   ]
  },
  {
   "cell_type": "code",
   "execution_count": null,
   "id": "d3aa855e-c73c-40e0-bba0-2a7c8c03f7db",
   "metadata": {},
   "outputs": [],
   "source": [
    "# Initialisation des variables\n",
    "\n",
    "# Tant que le nom saisi n'est pas \"stop\"\n",
    "\n",
    "    # Demander à l'utilisateur de saisir un nom\n",
    "\n",
    "    # Si le nom est présent dans le dictionnaire :\n",
    "        \n",
    "        # Afficher le numéro associé à ce nom dans le carnet de contact\n",
    "\n",
    "    # Sinon:\n",
    "\n",
    "        # Demander de saisir le numéro correspondant\n",
    "\n",
    "        # Ajouter le nom et le numéro au carnet\n",
    "\n"
   ]
  },
  {
   "cell_type": "markdown",
   "id": "5ef469bb-ec02-4581-a1e7-8a2f0dda3f19",
   "metadata": {},
   "source": [
    "## Exercices de travail algorithmique sur des structures combinées\n",
    "\n",
    "Les exercices suivants impliquent une réflexion plus approfondie afin d'aboutir à des programmes plus complexes, notamment du fait de l'utilisation de structures de données combinées (dictionnaires de listes, dictionnaires de dictionnaires, etc...)"
   ]
  },
  {
   "cell_type": "markdown",
   "id": "5ff6d553-5da3-465e-b257-82c7c599d2d5",
   "metadata": {},
   "source": [
    "### Exercice 5 - Emplois du temps\n",
    "Prenons des emplois du temps fictifs de 2 classes. Nous avons ici une imbrication de 3 dictionnaires :\n",
    "\n",
    "Classe ➔ Jour de la semaine ➔ Horaire ➔ Matière"
   ]
  },
  {
   "cell_type": "code",
   "execution_count": null,
   "id": "4a9bf600-ffbb-4123-8919-19f0c110721d",
   "metadata": {},
   "outputs": [],
   "source": [
    "emplois_du_temps = {\n",
    "    \"Première A\": {\n",
    "        \"Lundi\": {\n",
    "            \"8h-9h\": \"mathématique\",\n",
    "            \"9h-10h\": \"français\",\n",
    "            \"10h-11h\": \"anglais\",\n",
    "            \"11h-12h\": \"LV2\"\n",
    "        },\n",
    "        \"Mardi\": {\n",
    "            \"8h-9h\": \"NSI\",\n",
    "            \"9h-10h\": \"NSI\",\n",
    "            \"10h-11h\": \"français\",\n",
    "            \"11h-12h\": \"mathématique\"\n",
    "        },\n",
    "        \"Mercredi\": {\n",
    "            \"8h-9h\": \"anglais\",\n",
    "            \"9h-10h\": \"LV2\",\n",
    "            \"10h-11h\": \"mathématique\"\n",
    "        },\n",
    "        \"Jeudi\": {\n",
    "            \"8h-9h\": \"français\",\n",
    "            \"9h-10h\": \"mathématique\",\n",
    "            \"10h-11h\": \"NSI\",\n",
    "            \"11h-12h\": \"anglais\"\n",
    "        },\n",
    "        \"Vendredi\": {\n",
    "            \"8h-9h\": \"LV2\",\n",
    "            \"9h-10h\": \"anglais\",\n",
    "            \"10h-11h\": \"français\",\n",
    "            \"11h-12h\": \"mathématique\"\n",
    "        }\n",
    "    },\n",
    "    \"Première B\": {\n",
    "        \"Lundi\": {\n",
    "            \"8h-9h\": \"NSI\",\n",
    "            \"9h-10h\": \"NSI\",\n",
    "            \"10h-11h\": \"mathématique\",\n",
    "            \"11h-12h\": \"français\"\n",
    "        },\n",
    "        \"Mardi\": {\n",
    "            \"8h-9h\": \"anglais\",\n",
    "            \"9h-10h\": \"LV2\",\n",
    "            \"10h-11h\": \"mathématique\",\n",
    "            \"11h-12h\": \"français\"\n",
    "        },\n",
    "        \"Mercredi\": {\n",
    "            \"8h-9h\": \"mathématique\",\n",
    "            \"9h-10h\": \"français\",\n",
    "            \"10h-11h\": \"anglais\"\n",
    "        },\n",
    "        \"Jeudi\": {\n",
    "            \"8h-9h\": \"LV2\",\n",
    "            \"9h-10h\": \"NSI\",\n",
    "            \"10h-11h\": \"français\",\n",
    "            \"11h-12h\": \"mathématique\"\n",
    "        },\n",
    "        \"Vendredi\": {\n",
    "            \"8h-9h\": \"anglais\",\n",
    "            \"9h-10h\": \"mathématique\",\n",
    "            \"10h-11h\": \"LV2\",\n",
    "            \"11h-12h\": \"français\"\n",
    "        }\n",
    "    }\n",
    "}"
   ]
  },
  {
   "cell_type": "markdown",
   "id": "6f50bdb9-44ab-4e15-96a5-416e3f19a1fa",
   "metadata": {},
   "source": [
    "#### Questions préparatoires\n",
    "\n",
    "Assurez-vous de savoir répondre aux questions suivantes avant de vous lancer dans la programmation des exercices."
   ]
  },
  {
   "cell_type": "code",
   "execution_count": null,
   "id": "3a3e0770-61f2-4f38-aa84-7472f7cf9e7a",
   "metadata": {},
   "outputs": [],
   "source": [
    "# Afficher le cours du mardi 10h pour les Première B \n",
    "\n",
    "# Affichez les matières du vendredi pour la première A\n"
   ]
  },
  {
   "cell_type": "markdown",
   "id": "19bd7e77-4b94-47f6-9029-0db0ade00d39",
   "metadata": {},
   "source": [
    "#### Ex5 - Question 1 : préparer son sac.\n",
    "\n",
    "Tony souhaiterai un programme qui lui permette de faciliter la préparation de son sac le matin avant de partir au lycée.\n",
    "\n",
    "Ecrivez **une fonction**  qui prend en argument `une classe` et un `jour de la semaine` et qui retourne la liste des matières de l'emploi du temps de cette classe ce jour là.\n",
    "\n",
    "Format de retour : `[\"Matière 1\", \"Matière 2\", ...]`"
   ]
  },
  {
   "cell_type": "code",
   "execution_count": null,
   "id": "8fd1e242-760a-43e8-b8f8-1daa9617ee5f",
   "metadata": {},
   "outputs": [],
   "source": []
  },
  {
   "cell_type": "markdown",
   "id": "5428384c-45b7-4532-a605-dab1f37f4424",
   "metadata": {},
   "source": [
    "**Option BG** : faites en sorte que la liste ne contienne pas 2 fois la même matière."
   ]
  },
  {
   "cell_type": "markdown",
   "id": "3b7f80cf-bc7a-442b-848d-8277a78b2099",
   "metadata": {},
   "source": [
    "#### Ex5 - Question 2 : Liste de séances\n",
    "\n",
    "M. Lance ne se souvient jamais quand il a cours. Ecrivez-lui un programme qui lui redonne les jours où il a cours.\n",
    "\n",
    "Ecrivez une fonction qui prend en argument une matière et qui retourne la structure suivante :\n",
    "\n",
    "Format de retour : `{\"jour 1\" : [\"horaire 1\",\"horaire 2\",..], \"jour 2\" : [\"horaire 1\",\"horaire 2\",..]}`"
   ]
  },
  {
   "cell_type": "code",
   "execution_count": null,
   "id": "72f21aec-43ce-4746-a386-9ee756b393c8",
   "metadata": {},
   "outputs": [],
   "source": []
  },
  {
   "cell_type": "markdown",
   "id": "8239783f-c314-4149-8372-398781d07b0b",
   "metadata": {},
   "source": [
    "Si vous avez besoin d'y aller progressivement, faites l'exercice dans cet ordre :\n",
    "- Parcourez les horaires d'un jour donné pour une classe donnée (codez les valeurs *en dur*), ajoutez l'horaire dans une liste si la matière recherchée est la bonne.\n",
    "- Généralisez le code précédent pour tous les jours sans changer de format de réponse (liste simple).\n",
    "- Intégrez la liste dans un dictionnaire avec le jour comme clé.\n",
    "- Généralisez le code précédent pour toutes les classes.\n",
    "\n",
    "Conseil : envisagez de créer des sous-fonctions pour chaque partie. Plus les fonctions sont petites et plus vous simplifirez leur écriture.\n",
    "\n",
    "**Option BG** : Retournez une structure de la forme suivante : `{\"jour 1\" : [\"horaire 1 : classe\",\"horaire 2 : classe\",..], \"jour 2\" : [\"horaire 1 : classe\",\"horaire 2 : classe\",..]}`"
   ]
  },
  {
   "cell_type": "markdown",
   "id": "fc0aed79-528c-434a-b101-9f91d4cacf2b",
   "metadata": {},
   "source": [
    "### Exercice 6 - Constituer des équipes équilibrées\n",
    "\n",
    "La structure suivante récapitule les performance des élèves d'une classe sportive"
   ]
  },
  {
   "cell_type": "code",
   "execution_count": null,
   "id": "2f6777fd-4319-4b5d-b905-06ac7bc5834a",
   "metadata": {},
   "outputs": [],
   "source": [
    "eleves = {\n",
    "    \"Alice\": {\"vitesse\": 8, \"endurance\": 5, \"esprit_equipe\": 9},\n",
    "    \"Bob\": {\"vitesse\": 7, \"endurance\": 8, \"esprit_equipe\": 6},\n",
    "    \"Charlie\": {\"vitesse\": 9, \"endurance\": 6, \"esprit_equipe\": 7},\n",
    "    \"David\": {\"vitesse\": 6, \"endurance\": 9, \"esprit_equipe\": 8},\n",
    "    \"Emma\": {\"vitesse\": 7, \"endurance\": 7, \"esprit_equipe\": 8},\n",
    "    \"Felix\": {\"vitesse\": 8, \"endurance\": 8, \"esprit_equipe\": 7},\n",
    "    \"Grace\": {\"vitesse\": 9, \"endurance\": 8, \"esprit_equipe\": 4},\n",
    "    \"Hugo\": {\"vitesse\": 6, \"endurance\": 8, \"esprit_equipe\": 9},\n",
    "    \"Iris\": {\"vitesse\": 7, \"endurance\": 9, \"esprit_equipe\": 7},\n",
    "    \"Jules\": {\"vitesse\": 8, \"endurance\": 4, \"esprit_equipe\": 8}\n",
    "}"
   ]
  },
  {
   "cell_type": "markdown",
   "id": "202586d8-3929-43cf-912e-b82afb54f715",
   "metadata": {},
   "source": [
    "#### Ex6 - Question 1 : Evaluation des élèves\n",
    "\n",
    "Ecrivez une fonction `somme_perf` qui prend en argument un dictionnaire `eleves` du format ci-dessus et qui retourne un dictionnaire dont la clé est toujours l'élève mais la valeur est la somme de ses différentes performances.\n"
   ]
  },
  {
   "cell_type": "code",
   "execution_count": 11,
   "id": "383b5a63-813f-495a-8349-3118a5f0aa41",
   "metadata": {},
   "outputs": [
    {
     "name": "stdout",
     "output_type": "stream",
     "text": [
      "{'Alice': 22, 'Bob': 21, 'Charlie': 22, 'David': 23, 'Emma': 22, 'Felix': 23, 'Grace': 21, 'Hugo': 23, 'Iris': 23, 'Jules': 20}\n"
     ]
    }
   ],
   "source": [
    "eleves = {\n",
    "    \"Alice\": {\"vitesse\": 8, \"endurance\": 5, \"esprit_equipe\": 9},\n",
    "    \"Bob\": {\"vitesse\": 7, \"endurance\": 8, \"esprit_equipe\": 6},\n",
    "    \"Charlie\": {\"vitesse\": 9, \"endurance\": 6, \"esprit_equipe\": 7},\n",
    "    \"David\": {\"vitesse\": 6, \"endurance\": 9, \"esprit_equipe\": 8},\n",
    "    \"Emma\": {\"vitesse\": 7, \"endurance\": 7, \"esprit_equipe\": 8},\n",
    "    \"Felix\": {\"vitesse\": 8, \"endurance\": 8, \"esprit_equipe\": 7},\n",
    "    \"Grace\": {\"vitesse\": 9, \"endurance\": 8, \"esprit_equipe\": 4},\n",
    "    \"Hugo\": {\"vitesse\": 6, \"endurance\": 8, \"esprit_equipe\": 9},\n",
    "    \"Iris\": {\"vitesse\": 7, \"endurance\": 9, \"esprit_equipe\": 7},\n",
    "    \"Jules\": {\"vitesse\": 8, \"endurance\": 4, \"esprit_equipe\": 8}\n",
    "}\n",
    "\n",
    "def somme_perf(eleves):\n",
    "    return {\n",
    "        key: sum(eleves[key].values())\n",
    "        for key in eleves.keys()\n",
    "    }\n",
    "\n",
    "print(somme_perf(eleves))"
   ]
  },
  {
   "cell_type": "code",
   "execution_count": null,
   "id": "127ace00-1541-4579-9870-8b58cddcba05",
   "metadata": {},
   "outputs": [],
   "source": []
  },
  {
   "cell_type": "markdown",
   "id": "68c6a772-0ae4-439e-99ba-1e56ad7a1bef",
   "metadata": {},
   "source": [
    "#### Ex6 - Question 2 : Verification des équipes réparties\n",
    "\n",
    "La forme attendu du résultat des fonctions de répartition est la suivante :\n",
    "\n",
    "```\n",
    "{\n",
    "\"Equipe 1\" : [\"élève 1\", \"élève 2\", \"élève 3\",...],\n",
    "\"Equipe 2\" : [\"élève 4\", \"élève 5\", \"élève 6\",...],\n",
    "}\n",
    "```\n",
    "Nous allons commencer par coder une fonction de vérification de la validité des équipes.\n",
    "\n",
    "Ecrivez une fonction `verification` qui prend en paramètre un argument `repartition` de la forme présentée ci-dessus. Elle retourne `True` si les 2 équipes contiennent autant de joueurs, et `False` sinon."
   ]
  },
  {
   "cell_type": "code",
   "execution_count": null,
   "id": "f00c9f9f-6b45-46cc-9c48-cf7776697690",
   "metadata": {},
   "outputs": [],
   "source": []
  },
  {
   "cell_type": "code",
   "execution_count": 36,
   "id": "aaadc0d3-fae9-498b-8e77-ac7153c510c5",
   "metadata": {},
   "outputs": [
    {
     "name": "stdout",
     "output_type": "stream",
     "text": [
      "True\n",
      "False\n"
     ]
    }
   ],
   "source": [
    "# Testez votre fonction avec les exemples suivants :\n",
    "repartition_ok = {\"Equipe 1\" : [\"Iris\",\"Felix\",\"Hugo\"], \"Equipe 2\" : [\"Alice\",\"Charlie\",\"Jules\"]}\n",
    "repartition_ko = {\"Equipe 1\" : [\"Iris\",\"Felix\",\"Hugo\"], \"Equipe 2\" : [\"Alice\",\"Charlie\"]}\n",
    "\n",
    "def verification(rep):\n",
    "    return len(rep['Equipe 1']) == len(rep['Equipe 2'])\n",
    "    \n",
    "print(verification(repartition_ok))\n",
    "print(verification(repartition_ko))"
   ]
  },
  {
   "cell_type": "markdown",
   "id": "94a8199b-4346-4b8f-b356-ce6e3ff4ae0d",
   "metadata": {},
   "source": [
    "#### Ex6 - Question 3 : Evaluation des équipes\n",
    "\n",
    "Ecrivez une fonction `evaluation` qui prend en paramètre un argument `repartition` de la forme présentée précédemment. Elle retourne un dictionnaire dont la clé est l'équipe et la valeur est la somme totale des performances des élèves de l'équipe.\n",
    "\n",
    "Vous pouvez utiliser la fonction `somme_perf` codée plus tôt pour simplifier le code de celle-ci."
   ]
  },
  {
   "cell_type": "code",
   "execution_count": 58,
   "id": "bc051ce4-fe4b-4c50-b23a-71c271cd5159",
   "metadata": {},
   "outputs": [
    {
     "name": "stdout",
     "output_type": "stream",
     "text": [
      "{'Equipe 1': 69, 'Equipe 2': 64}\n",
      "{'Equipe 1': 69, 'Equipe 2': 44}\n"
     ]
    }
   ],
   "source": [
    "eleves = {\n",
    "    \"Alice\": {\"vitesse\": 8, \"endurance\": 5, \"esprit_equipe\": 9},\n",
    "    \"Bob\": {\"vitesse\": 7, \"endurance\": 8, \"esprit_equipe\": 6},\n",
    "    \"Charlie\": {\"vitesse\": 9, \"endurance\": 6, \"esprit_equipe\": 7},\n",
    "    \"David\": {\"vitesse\": 6, \"endurance\": 9, \"esprit_equipe\": 8},\n",
    "    \"Emma\": {\"vitesse\": 7, \"endurance\": 7, \"esprit_equipe\": 8},\n",
    "    \"Felix\": {\"vitesse\": 8, \"endurance\": 8, \"esprit_equipe\": 7},\n",
    "    \"Grace\": {\"vitesse\": 9, \"endurance\": 8, \"esprit_equipe\": 4},\n",
    "    \"Hugo\": {\"vitesse\": 6, \"endurance\": 8, \"esprit_equipe\": 9},\n",
    "    \"Iris\": {\"vitesse\": 7, \"endurance\": 9, \"esprit_equipe\": 7},\n",
    "    \"Jules\": {\"vitesse\": 8, \"endurance\": 4, \"esprit_equipe\": 8}\n",
    "}\n",
    "\n",
    "repartition_ok = {\"Equipe 1\" : [\"Iris\",\"Felix\",\"Hugo\"], \"Equipe 2\" : [\"Alice\",\"Charlie\",\"Jules\"]}\n",
    "repartition_ko = {\"Equipe 1\" : [\"Iris\",\"Felix\",\"Hugo\"], \"Equipe 2\" : [\"Alice\",\"Charlie\"]}\n",
    "\n",
    "def somme_perf(eleves):\n",
    "    return {\n",
    "        key: sum(eleves[key].values())\n",
    "        for key in eleves.keys()\n",
    "    }\n",
    "\n",
    "def evaluation(rep):\n",
    "    return {\n",
    "        equipe: sum(\n",
    "            somme_perf(eleves)[membre] \n",
    "            for membre in membres\n",
    "        )\n",
    "        for equipe, membres in rep.items()\n",
    "    }\n",
    "\n",
    "print(evaluation(repartition_ok))\n",
    "print(evaluation(repartition_ko))"
   ]
  },
  {
   "cell_type": "markdown",
   "id": "6f12333f-017f-40b4-97ee-9c22725a4365",
   "metadata": {},
   "source": [
    "#### Ex6 - Question 4 : Tirage au sort\n",
    "\n",
    "Ecrivez une fonction `tirage_au_sort` qui prend en paramètre un argument `eleves`. Elle retourne un dictionnaire de répartition des élèves dans 2 équipes aléatoirement.\n"
   ]
  },
  {
   "cell_type": "code",
   "execution_count": 92,
   "id": "24b26151-8a3e-452b-8486-510fb1d99dcf",
   "metadata": {},
   "outputs": [
    {
     "name": "stdout",
     "output_type": "stream",
     "text": [
      "{'Equipe 1': ['David', 'Grace', 'Felix', 'Iris', 'Charlie'], 'Equipe 2': ['Bob', 'Hugo', 'Jules', 'Emma', 'Alice']}\n"
     ]
    }
   ],
   "source": [
    "eleves = {\n",
    "    \"Alice\": {\"vitesse\": 8, \"endurance\": 5, \"esprit_equipe\": 9},\n",
    "    \"Bob\": {\"vitesse\": 7, \"endurance\": 8, \"esprit_equipe\": 6},\n",
    "    \"Charlie\": {\"vitesse\": 9, \"endurance\": 6, \"esprit_equipe\": 7},\n",
    "    \"David\": {\"vitesse\": 6, \"endurance\": 9, \"esprit_equipe\": 8},\n",
    "    \"Emma\": {\"vitesse\": 7, \"endurance\": 7, \"esprit_equipe\": 8},\n",
    "    \"Felix\": {\"vitesse\": 8, \"endurance\": 8, \"esprit_equipe\": 7},\n",
    "    \"Grace\": {\"vitesse\": 9, \"endurance\": 8, \"esprit_equipe\": 4},\n",
    "    \"Hugo\": {\"vitesse\": 6, \"endurance\": 8, \"esprit_equipe\": 9},\n",
    "    \"Iris\": {\"vitesse\": 7, \"endurance\": 9, \"esprit_equipe\": 7},\n",
    "    \"Jules\": {\"vitesse\": 8, \"endurance\": 4, \"esprit_equipe\": 8}\n",
    "}\n",
    "\n",
    "def tirage_au_sort(eleves):\n",
    "    rep = {\n",
    "        'Equipe 1': [],\n",
    "        'Equipe 2': []\n",
    "    }\n",
    "    people = [key for key in eleves.keys()]\n",
    "    person_max_in_team = len(people)/2\n",
    "    if person_max_in_team % 1 == 1:\n",
    "        print('Error | The amount of player in every team is not an int but a float')\n",
    "        print(person_max_in_team)\n",
    "    else:\n",
    "        for team in rep.keys():\n",
    "            for i in range(int(person_max_in_team)):\n",
    "                chosen = __import__('random').choice(people)\n",
    "                people.remove(chosen)\n",
    "                rep[team].append(chosen)\n",
    "        return rep\n",
    "\n",
    "print(tirage_au_sort(eleves))"
   ]
  },
  {
   "cell_type": "markdown",
   "id": "c6d24a11-621d-4479-bed4-7989785a116e",
   "metadata": {},
   "source": [
    "Ecrivez une boucle qui génère 20 tirages au sort d'équipes. Pour chaque des tirages au sort, appelez la fonction `evaluation` et affichez la **différence de performance** totale des 2 équipes.\n",
    "\n",
    "Ainsi nous verrons s'il y a de grande différences de force entre les 2 équipes lorsqu'elles sont tirées au sort."
   ]
  },
  {
   "cell_type": "code",
   "execution_count": 159,
   "id": "c1b3e818-60fe-4f54-95ae-7cc4b6895389",
   "metadata": {},
   "outputs": [
    {
     "name": "stdout",
     "output_type": "stream",
     "text": [
      "{'Equipe 1': 109, 'Equipe 2': 111}\n",
      "{'Equipe 1': 110, 'Equipe 2': 110}\n",
      "{'Equipe 1': 110, 'Equipe 2': 110}\n",
      "{'Equipe 1': 112, 'Equipe 2': 108}\n",
      "{'Equipe 1': 109, 'Equipe 2': 111}\n",
      "{'Equipe 1': 107, 'Equipe 2': 113}\n",
      "{'Equipe 1': 112, 'Equipe 2': 108}\n",
      "{'Equipe 1': 111, 'Equipe 2': 109}\n",
      "{'Equipe 1': 111, 'Equipe 2': 109}\n",
      "{'Equipe 1': 109, 'Equipe 2': 111}\n",
      "{'Equipe 1': 108, 'Equipe 2': 112}\n",
      "{'Equipe 1': 112, 'Equipe 2': 108}\n",
      "{'Equipe 1': 109, 'Equipe 2': 111}\n",
      "{'Equipe 1': 112, 'Equipe 2': 108}\n",
      "{'Equipe 1': 112, 'Equipe 2': 108}\n",
      "{'Equipe 1': 111, 'Equipe 2': 109}\n",
      "{'Equipe 1': 107, 'Equipe 2': 113}\n",
      "{'Equipe 1': 108, 'Equipe 2': 112}\n",
      "{'Equipe 1': 112, 'Equipe 2': 108}\n",
      "{'Equipe 1': 110, 'Equipe 2': 110}\n"
     ]
    }
   ],
   "source": [
    "eleves = {\n",
    "    \"Alice\": {\"vitesse\": 8, \"endurance\": 5, \"esprit_equipe\": 9},\n",
    "    \"Bob\": {\"vitesse\": 7, \"endurance\": 8, \"esprit_equipe\": 6},\n",
    "    \"Charlie\": {\"vitesse\": 9, \"endurance\": 6, \"esprit_equipe\": 7},\n",
    "    \"David\": {\"vitesse\": 6, \"endurance\": 9, \"esprit_equipe\": 8},\n",
    "    \"Emma\": {\"vitesse\": 7, \"endurance\": 7, \"esprit_equipe\": 8},\n",
    "    \"Felix\": {\"vitesse\": 8, \"endurance\": 8, \"esprit_equipe\": 7},\n",
    "    \"Grace\": {\"vitesse\": 9, \"endurance\": 8, \"esprit_equipe\": 4},\n",
    "    \"Hugo\": {\"vitesse\": 6, \"endurance\": 8, \"esprit_equipe\": 9},\n",
    "    \"Iris\": {\"vitesse\": 7, \"endurance\": 9, \"esprit_equipe\": 7},\n",
    "    \"Jules\": {\"vitesse\": 8, \"endurance\": 4, \"esprit_equipe\": 8}\n",
    "}\n",
    "\n",
    "def tirage_au_sort(eleves):\n",
    "    rep = {\n",
    "        'Equipe 1': [],\n",
    "        'Equipe 2': []\n",
    "    }\n",
    "    people = [key for key in eleves.keys()]\n",
    "    person_max_in_team = len(people)/2\n",
    "    if person_max_in_team % 1 == 1:\n",
    "        print('Error | The amount of player in every team is not an int but a float')\n",
    "        print(person_max_in_team)\n",
    "    else:\n",
    "        for team in rep.keys():\n",
    "            for i in range(int(person_max_in_team)):\n",
    "                chosen = __import__('random').choice(people)\n",
    "                people.remove(chosen)\n",
    "                rep[team].append(chosen)\n",
    "        return rep\n",
    "    \n",
    "def somme_perf(eleves):\n",
    "    return {\n",
    "        key: sum(eleves[key].values())\n",
    "        for key in eleves.keys()\n",
    "    }\n",
    "\n",
    "def evaluation(rep):\n",
    "    return {\n",
    "        equipe: sum(\n",
    "            somme_perf(eleves)[membre] \n",
    "            for membre in membres\n",
    "        )\n",
    "        for equipe, membres in rep.items()\n",
    "    }\n",
    "\n",
    "for i in range(20):\n",
    "    print(evaluation(tirage_au_sort(eleves)))"
   ]
  },
  {
   "cell_type": "markdown",
   "id": "8cca0959-6354-4fbf-a8f1-1cbba877d51f",
   "metadata": {},
   "source": [
    "#### Ex6 - Question 5 : Selection alternée\n",
    "\n",
    "Nous souhaitons maintenant trouver un algorithme qui équilibre mieux les forces des 2 équipes. Pour cela, nous proposons de classer les élèves par performance, puis de les répartir 1 sur 2 dans chaque équipe (les élèves impairs dans l'équipe 1 et les élèves pairs dans l'équipe 2).\n",
    "\n",
    "Ecrivez une fonction `selection_alternee` qui prend en paramètre un argument `eleves`. Elle commence par générer la liste des élèves triée par ordre de performance (croissant ou décroissant, peu importe). Elle distribue ensuite les élèves dans chaque équipe alternativement et retourne le dictionnaire de répartition.\n"
   ]
  },
  {
   "cell_type": "code",
   "execution_count": 254,
   "id": "9040caa7-1df5-49f2-b90c-ecff5b701a4f",
   "metadata": {},
   "outputs": [
    {
     "name": "stdout",
     "output_type": "stream",
     "text": [
      "{'Equipe 1': 111, 'Equipe 2': 109}\n"
     ]
    }
   ],
   "source": [
    "eleves = {\n",
    "    \"Alice\": {\"vitesse\": 8, \"endurance\": 5, \"esprit_equipe\": 9},\n",
    "    \"Bob\": {\"vitesse\": 7, \"endurance\": 8, \"esprit_equipe\": 6},\n",
    "    \"Charlie\": {\"vitesse\": 9, \"endurance\": 6, \"esprit_equipe\": 7},\n",
    "    \"David\": {\"vitesse\": 6, \"endurance\": 9, \"esprit_equipe\": 8},\n",
    "    \"Emma\": {\"vitesse\": 7, \"endurance\": 7, \"esprit_equipe\": 8},\n",
    "    \"Felix\": {\"vitesse\": 8, \"endurance\": 8, \"esprit_equipe\": 7},\n",
    "    \"Grace\": {\"vitesse\": 9, \"endurance\": 8, \"esprit_equipe\": 4},\n",
    "    \"Hugo\": {\"vitesse\": 6, \"endurance\": 8, \"esprit_equipe\": 9},\n",
    "    \"Iris\": {\"vitesse\": 7, \"endurance\": 9, \"esprit_equipe\": 7},\n",
    "    \"Jules\": {\"vitesse\": 8, \"endurance\": 4, \"esprit_equipe\": 8}\n",
    "}\n",
    "\n",
    "def somme_perf(eleves):\n",
    "    return {\n",
    "        key: sum(eleves[key].values())\n",
    "        for key in eleves.keys()\n",
    "    }\n",
    "\n",
    "\n",
    "def selection_alternee(eleves):\n",
    "    rep = {\n",
    "        'Equipe 1': [],\n",
    "        'Equipe 2': []\n",
    "    }\n",
    "    perfs = {key: sum(value.values()) for key, value in eleves.items()}\n",
    "    sorted_perfs = dict(sorted(perfs.items(), key=lambda item: item[1], reverse=True))\n",
    "    \n",
    "    for i,v in enumerate(sorted_perfs.keys()):\n",
    "        if i % 2 == 0:\n",
    "            rep[f'Equipe 1'].append(v)\n",
    "        else:\n",
    "            rep[f'Equipe 2'].append(v)\n",
    "    return rep\n",
    "\n",
    "def evaluation(rep):\n",
    "    return {\n",
    "        equipe: sum(\n",
    "            somme_perf(eleves)[membre] \n",
    "            for membre in membres\n",
    "        )\n",
    "        for equipe, membres in rep.items()\n",
    "    }\n",
    "\n",
    "print(evaluation(selection_alternee(eleves)))"
   ]
  },
  {
   "cell_type": "markdown",
   "id": "89adf14e-079d-4af3-81be-821ed428ec8c",
   "metadata": {},
   "source": [
    "Appelez la fonction `evaluation` sur ce dictionnaire. Comparez avec les résultats du tirage au sort."
   ]
  },
  {
   "cell_type": "code",
   "execution_count": null,
   "id": "f133ec61-c4e0-4512-bbf6-09f3feb34364",
   "metadata": {},
   "outputs": [],
   "source": []
  },
  {
   "cell_type": "markdown",
   "id": "7266c083-5e91-4bf0-841c-a9f2f229b2c6",
   "metadata": {},
   "source": [
    "#### Ex6 - Question 6 : Performances détaillées\n",
    "\n",
    "Les équipes ainsi générées ne sont-elles pas déséquilibrées en terme de vitesse, endurance ou esprit d'équipe ?\n",
    "\n",
    "Ecrivez une fonction qui retourne les moyennes de chacun des critères des membres de l'équipe. Le dictionnaire retourné est de la forme :\n",
    "\n",
    "```\n",
    "{\n",
    "    \"equipe 1\": {\"vitesse\": 6.76, \"endurance\": 8.54, \"esprit_equipe\": 7.21},\n",
    "    \"equipe 1\": {\"vitesse\": 7.34, \"endurance\": 6.83, \"esprit_equipe\": 8.41}\n",
    "}\n",
    "```"
   ]
  },
  {
   "cell_type": "code",
   "execution_count": 262,
   "id": "8481130a-91a5-4c1f-a2f6-9dba6fcabe46",
   "metadata": {},
   "outputs": [
    {
     "name": "stdout",
     "output_type": "stream",
     "text": [
      "{'Equipe 1': {'vitesse': 0, 'endurance': 0, 'esprit_equipe': 0}, 'Equipe 2': {'vitesse': 0, 'endurance': 0, 'esprit_equipe': 0}}\n"
     ]
    }
   ],
   "source": [
    "eleves = {\n",
    "    \"Alice\": {\"vitesse\": 8, \"endurance\": 5, \"esprit_equipe\": 9},\n",
    "    \"Bob\": {\"vitesse\": 7, \"endurance\": 8, \"esprit_equipe\": 6},\n",
    "    \"Charlie\": {\"vitesse\": 9, \"endurance\": 6, \"esprit_equipe\": 7},\n",
    "    \"David\": {\"vitesse\": 6, \"endurance\": 9, \"esprit_equipe\": 8},\n",
    "    \"Emma\": {\"vitesse\": 7, \"endurance\": 7, \"esprit_equipe\": 8},\n",
    "    \"Felix\": {\"vitesse\": 8, \"endurance\": 8, \"esprit_equipe\": 7},\n",
    "    \"Grace\": {\"vitesse\": 9, \"endurance\": 8, \"esprit_equipe\": 4},\n",
    "    \"Hugo\": {\"vitesse\": 6, \"endurance\": 8, \"esprit_equipe\": 9},\n",
    "    \"Iris\": {\"vitesse\": 7, \"endurance\": 9, \"esprit_equipe\": 7},\n",
    "    \"Jules\": {\"vitesse\": 8, \"endurance\": 4, \"esprit_equipe\": 8}\n",
    "}\n",
    "\n",
    "def somme_perf(eleves):\n",
    "    return {\n",
    "        key: sum(eleves[key].values())\n",
    "        for key in eleves.keys()\n",
    "    }\n",
    "\n",
    "\n",
    "def selection_alternee(eleves):\n",
    "    rep = {\n",
    "        'Equipe 1': [],\n",
    "        'Equipe 2': []\n",
    "    }\n",
    "    perfs = {key: sum(value.values()) for key, value in eleves.items()}\n",
    "    sorted_perfs = dict(sorted(perfs.items(), key=lambda item: item[1], reverse=True))\n",
    "    \n",
    "    for i,v in enumerate(sorted_perfs.keys()):\n",
    "        if i % 2 == 0:\n",
    "            rep[f'Equipe 1'].append(v)\n",
    "        else:\n",
    "            rep[f'Equipe 2'].append(v)\n",
    "    return rep\n",
    "\n",
    "def team_moyenne(eleves, rep):\n",
    "    stats = ['vitesse','endurance','esprit_equipe']\n",
    "    result = {\n",
    "        'Equipe 1': {key:0 for key in stats},\n",
    "        'Equipe 2': {key:0 for key in stats}\n",
    "    }\n",
    "    \n",
    "    return result\n",
    "\n",
    "print(team_moyenne(eleves, selection_alternee(eleves)))"
   ]
  },
  {
   "cell_type": "markdown",
   "id": "1172d576-9e22-414b-b055-cbd8d9874a34",
   "metadata": {},
   "source": [
    "#### Ex6 - Question 7 : Répartition équilibrée\n",
    "\n",
    "Comment pourrions nous écrire un programme qui génère des équipes dont les moyennes des performances détaillées sont les plus proches possible ?\n",
    "\n",
    "Hmmmm... Pas simple..."
   ]
  },
  {
   "cell_type": "code",
   "execution_count": null,
   "id": "abf3e987-6501-4442-804b-c716159d36ea",
   "metadata": {},
   "outputs": [],
   "source": []
  }
 ],
 "metadata": {
  "kernelspec": {
   "display_name": "Python 3 (ipykernel)",
   "language": "python",
   "name": "python3"
  },
  "language_info": {
   "codemirror_mode": {
    "name": "ipython",
    "version": 3
   },
   "file_extension": ".py",
   "mimetype": "text/x-python",
   "name": "python",
   "nbconvert_exporter": "python",
   "pygments_lexer": "ipython3",
   "version": "3.8.2"
  }
 },
 "nbformat": 4,
 "nbformat_minor": 5
}
